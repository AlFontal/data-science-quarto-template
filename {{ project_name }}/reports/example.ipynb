{
 "cells": [
  {
   "cell_type": "markdown",
   "metadata": {},
   "source": [
    "---\n",
    "title: Example Jupyter Notebook\n",
    "subtitle: Wrangling and analyzing the latest data\n",
    "\n",
    "authors:\n",
    "  - name: \"Alejandro Fontal\"\n",
    "    affiliation: \"Climate & Health Program, ISGlobal\"\n",
    "    affiliation-url: \"https://www.isglobal.org/en/-/clima-y-salud\"\n",
    "    email: \"alejandro.fontal.92@gmail.com\"\n",
    "    url: \"https://alfontal.dev\"\n",
    "    orcid: 0000-0003-1138-2158\n",
    "\n",
    "\n",
    "date: \"last-modified\"\n",
    "format:\n",
    "  html:\n",
    "    warning: false\n",
    "    smooth-scroll: true\n",
    "    toc: true\n",
    "    toc-location: right\n",
    "    number-sections: false\n",
    "    comments:\n",
    "      hypothesis: true\n",
    "\n",
    "---"
   ]
  },
  {
   "cell_type": "markdown",
   "metadata": {},
   "source": [
    "## Introduction"
   ]
  },
  {
   "cell_type": "markdown",
   "metadata": {},
   "source": [
    "Here we introduce the content of the notebook. I generally add a completely folded preamble with imports\n",
    "and pre-setup code. This way, the notebook is cleaner and easier to read. The preamble is folded by default.\n",
    "\n"
   ]
  },
  {
   "cell_type": "markdown",
   "metadata": {
    "vscode": {
     "languageId": "plaintext"
    }
   },
   "source": [
    "\n",
    "#### Preamble {-}\n",
    "<details>\n",
    "<summary>Show code imports and presets</summary>\n",
    "<br>\n",
    "In this section we load the necessary libraries and set the global parameters for the\n",
    "notebook. It's irrelevant for the narrative of the analysis but essential for the \n",
    "reproducibility of the results."
   ]
  },
  {
   "cell_type": "markdown",
   "metadata": {
    "vscode": {
     "languageId": "plaintext"
    }
   },
   "source": [
    "##### Imports {-}\n"
   ]
  },
  {
   "cell_type": "code",
   "execution_count": null,
   "metadata": {},
   "outputs": [],
   "source": [
    "\n",
    "import os\n",
    "import numpy as np\n",
    "import pandas as pd\n",
    "import plotnine as p9\n",
    "import matplotlib.pyplot as plt"
   ]
  },
  {
   "cell_type": "markdown",
   "metadata": {},
   "source": [
    "##### Pre-sets {-}"
   ]
  },
  {
   "cell_type": "code",
   "execution_count": null,
   "metadata": {},
   "outputs": [],
   "source": [
    "# Matplotlib settings\n",
    "import matplotlib.pyplot as plt\n",
    "from matplotlib_inline.backend_inline import set_matplotlib_formats\n",
    "plt.rcParams['font.family'] = 'Georgia'\n",
    "plt.rcParams['svg.fonttype'] = 'none'\n",
    "set_matplotlib_formats('retina')\n",
    "plt.rcParams['figure.dpi'] = 300\n",
    "\n",
    "# Plotnine settings (for figures)\n",
    "\n",
    "p9.options.set_option('base_family', 'Georgia')\n",
    "\n",
    "p9.theme_set(\n",
    "    p9.theme_bw()\n",
    "    + p9.theme(panel_grid=p9.element_blank(),\n",
    "               legend_background=p9.element_blank(),\n",
    "               panel_grid_major=p9.element_line(size=.5, linetype='dashed',\n",
    "                                                alpha=.15, color='black'),\n",
    "               plot_title=p9.element_text(ha='center'),\n",
    "               dpi=200\n",
    "    )\n",
    ")\n"
   ]
  },
  {
   "cell_type": "markdown",
   "metadata": {},
   "source": [
    "\n",
    "</details>"
   ]
  },
  {
   "cell_type": "markdown",
   "metadata": {},
   "source": [
    "## Data Loading and Wrangling"
   ]
  },
  {
   "cell_type": "markdown",
   "metadata": {},
   "source": [
    "There you go..."
   ]
  }
 ],
 "metadata": {
  "kernelspec": {
   "display_name": "Python 3",
   "language": "python",
   "name": "python3"
  },
  "language_info": {
   "name": "python",
   "version": "3.13.0"
  }
 },
 "nbformat": 4,
 "nbformat_minor": 2
}
